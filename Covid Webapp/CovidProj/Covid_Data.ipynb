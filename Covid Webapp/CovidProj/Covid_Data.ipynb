{
 "cells": [
  {
   "cell_type": "code",
   "execution_count": 213,
   "metadata": {
    "id": "CU2lMJ4NbpwL"
   },
   "outputs": [],
   "source": [
    "import pandas as pd"
   ]
  },
  {
   "cell_type": "code",
   "execution_count": 214,
   "metadata": {
    "id": "C1X29onDc1yp"
   },
   "outputs": [],
   "source": [
    "df = pd.read_csv('Madedata1.csv')"
   ]
  },
  {
   "cell_type": "code",
   "execution_count": 215,
   "metadata": {
    "colab": {
     "base_uri": "https://localhost:8080/",
     "height": 268
    },
    "id": "konZRbLmc9kr",
    "outputId": "1f255560-ec97-4303-e783-69d72886af8d",
    "scrolled": true
   },
   "outputs": [
    {
     "data": {
      "text/html": [
       "<div>\n",
       "<style scoped>\n",
       "    .dataframe tbody tr th:only-of-type {\n",
       "        vertical-align: middle;\n",
       "    }\n",
       "\n",
       "    .dataframe tbody tr th {\n",
       "        vertical-align: top;\n",
       "    }\n",
       "\n",
       "    .dataframe thead th {\n",
       "        text-align: right;\n",
       "    }\n",
       "</style>\n",
       "<table border=\"1\" class=\"dataframe\">\n",
       "  <thead>\n",
       "    <tr style=\"text-align: right;\">\n",
       "      <th></th>\n",
       "      <th>Country</th>\n",
       "      <th>Age</th>\n",
       "      <th>Gender</th>\n",
       "      <th>fever</th>\n",
       "      <th>Bodypain</th>\n",
       "      <th>Runny_nose</th>\n",
       "      <th>Difficulty_in_breathing</th>\n",
       "      <th>Nasal_congestion</th>\n",
       "      <th>Sore_throat</th>\n",
       "      <th>Severity</th>\n",
       "      <th>Contact_with_covid_patient</th>\n",
       "      <th>Infected</th>\n",
       "    </tr>\n",
       "  </thead>\n",
       "  <tbody>\n",
       "    <tr>\n",
       "      <th>0</th>\n",
       "      <td>China</td>\n",
       "      <td>10</td>\n",
       "      <td>Male</td>\n",
       "      <td>102</td>\n",
       "      <td>1</td>\n",
       "      <td>0</td>\n",
       "      <td>0</td>\n",
       "      <td>0</td>\n",
       "      <td>1</td>\n",
       "      <td>Mild</td>\n",
       "      <td>No</td>\n",
       "      <td>0</td>\n",
       "    </tr>\n",
       "    <tr>\n",
       "      <th>1</th>\n",
       "      <td>Italy</td>\n",
       "      <td>20</td>\n",
       "      <td>Male</td>\n",
       "      <td>103</td>\n",
       "      <td>1</td>\n",
       "      <td>1</td>\n",
       "      <td>0</td>\n",
       "      <td>0</td>\n",
       "      <td>0</td>\n",
       "      <td>Moderate</td>\n",
       "      <td>Not known</td>\n",
       "      <td>1</td>\n",
       "    </tr>\n",
       "    <tr>\n",
       "      <th>2</th>\n",
       "      <td>Iran</td>\n",
       "      <td>55</td>\n",
       "      <td>Transgender</td>\n",
       "      <td>99</td>\n",
       "      <td>0</td>\n",
       "      <td>0</td>\n",
       "      <td>0</td>\n",
       "      <td>1</td>\n",
       "      <td>1</td>\n",
       "      <td>Severe</td>\n",
       "      <td>No</td>\n",
       "      <td>0</td>\n",
       "    </tr>\n",
       "    <tr>\n",
       "      <th>3</th>\n",
       "      <td>Republic of Korean</td>\n",
       "      <td>37</td>\n",
       "      <td>Female</td>\n",
       "      <td>100</td>\n",
       "      <td>0</td>\n",
       "      <td>1</td>\n",
       "      <td>1</td>\n",
       "      <td>0</td>\n",
       "      <td>0</td>\n",
       "      <td>Mild</td>\n",
       "      <td>Yes</td>\n",
       "      <td>1</td>\n",
       "    </tr>\n",
       "    <tr>\n",
       "      <th>4</th>\n",
       "      <td>France</td>\n",
       "      <td>45</td>\n",
       "      <td>Male</td>\n",
       "      <td>101</td>\n",
       "      <td>1</td>\n",
       "      <td>1</td>\n",
       "      <td>1</td>\n",
       "      <td>1</td>\n",
       "      <td>0</td>\n",
       "      <td>Moderate</td>\n",
       "      <td>Yes</td>\n",
       "      <td>1</td>\n",
       "    </tr>\n",
       "    <tr>\n",
       "      <th>5</th>\n",
       "      <td>Spain</td>\n",
       "      <td>45</td>\n",
       "      <td>Female</td>\n",
       "      <td>99</td>\n",
       "      <td>1</td>\n",
       "      <td>0</td>\n",
       "      <td>0</td>\n",
       "      <td>0</td>\n",
       "      <td>1</td>\n",
       "      <td>Mild</td>\n",
       "      <td>Not known</td>\n",
       "      <td>1</td>\n",
       "    </tr>\n",
       "    <tr>\n",
       "      <th>6</th>\n",
       "      <td>Germany</td>\n",
       "      <td>24</td>\n",
       "      <td>Female</td>\n",
       "      <td>98</td>\n",
       "      <td>0</td>\n",
       "      <td>0</td>\n",
       "      <td>0</td>\n",
       "      <td>0</td>\n",
       "      <td>1</td>\n",
       "      <td>Mild</td>\n",
       "      <td>No</td>\n",
       "      <td>0</td>\n",
       "    </tr>\n",
       "    <tr>\n",
       "      <th>7</th>\n",
       "      <td>UAE</td>\n",
       "      <td>37</td>\n",
       "      <td>Male</td>\n",
       "      <td>99</td>\n",
       "      <td>0</td>\n",
       "      <td>0</td>\n",
       "      <td>1</td>\n",
       "      <td>1</td>\n",
       "      <td>1</td>\n",
       "      <td>Moderate</td>\n",
       "      <td>Not known</td>\n",
       "      <td>1</td>\n",
       "    </tr>\n",
       "    <tr>\n",
       "      <th>8</th>\n",
       "      <td>Russia</td>\n",
       "      <td>40</td>\n",
       "      <td>Male</td>\n",
       "      <td>101</td>\n",
       "      <td>0</td>\n",
       "      <td>1</td>\n",
       "      <td>1</td>\n",
       "      <td>1</td>\n",
       "      <td>0</td>\n",
       "      <td>Moderate</td>\n",
       "      <td>Yes</td>\n",
       "      <td>1</td>\n",
       "    </tr>\n",
       "    <tr>\n",
       "      <th>9</th>\n",
       "      <td>Canada</td>\n",
       "      <td>37</td>\n",
       "      <td>Female</td>\n",
       "      <td>100</td>\n",
       "      <td>0</td>\n",
       "      <td>1</td>\n",
       "      <td>0</td>\n",
       "      <td>0</td>\n",
       "      <td>0</td>\n",
       "      <td>Mild</td>\n",
       "      <td>No</td>\n",
       "      <td>0</td>\n",
       "    </tr>\n",
       "  </tbody>\n",
       "</table>\n",
       "</div>"
      ],
      "text/plain": [
       "              Country  Age       Gender  fever  Bodypain  Runny_nose  \\\n",
       "0               China   10         Male    102         1           0   \n",
       "1               Italy   20         Male    103         1           1   \n",
       "2                Iran   55  Transgender     99         0           0   \n",
       "3  Republic of Korean   37       Female    100         0           1   \n",
       "4              France   45         Male    101         1           1   \n",
       "5               Spain   45       Female     99         1           0   \n",
       "6             Germany   24       Female     98         0           0   \n",
       "7                 UAE   37         Male     99         0           0   \n",
       "8              Russia   40         Male    101         0           1   \n",
       "9              Canada   37       Female    100         0           1   \n",
       "\n",
       "   Difficulty_in_breathing  Nasal_congestion  Sore_throat  Severity  \\\n",
       "0                        0                 0            1      Mild   \n",
       "1                        0                 0            0  Moderate   \n",
       "2                        0                 1            1    Severe   \n",
       "3                        1                 0            0      Mild   \n",
       "4                        1                 1            0  Moderate   \n",
       "5                        0                 0            1      Mild   \n",
       "6                        0                 0            1      Mild   \n",
       "7                        1                 1            1  Moderate   \n",
       "8                        1                 1            0  Moderate   \n",
       "9                        0                 0            0      Mild   \n",
       "\n",
       "  Contact_with_covid_patient  Infected  \n",
       "0                         No         0  \n",
       "1                  Not known         1  \n",
       "2                         No         0  \n",
       "3                        Yes         1  \n",
       "4                        Yes         1  \n",
       "5                  Not known         1  \n",
       "6                         No         0  \n",
       "7                  Not known         1  \n",
       "8                        Yes         1  \n",
       "9                         No         0  "
      ]
     },
     "execution_count": 215,
     "metadata": {},
     "output_type": "execute_result"
    }
   ],
   "source": [
    "df.head(10)"
   ]
  },
  {
   "cell_type": "code",
   "execution_count": 216,
   "metadata": {
    "colab": {
     "base_uri": "https://localhost:8080/"
    },
    "id": "uR5bb8Z1dCdy",
    "outputId": "4bb126a4-df72-496e-ce7e-f30acf8a1e99"
   },
   "outputs": [
    {
     "data": {
      "text/plain": [
       "(2499, 12)"
      ]
     },
     "execution_count": 216,
     "metadata": {},
     "output_type": "execute_result"
    }
   ],
   "source": [
    "df.shape"
   ]
  },
  {
   "cell_type": "markdown",
   "metadata": {
    "id": "tvuJEZtnfWn4"
   },
   "source": [
    "# We need to apply LabelEncoding to convert text datas from columns into numbers e.g 0,1,2,3....\n",
    "# It works alphabetically"
   ]
  },
  {
   "cell_type": "code",
   "execution_count": 217,
   "metadata": {
    "colab": {
     "base_uri": "https://localhost:8080/"
    },
    "id": "r9iC1VRne2uA",
    "outputId": "11f86946-80dd-4af4-da7f-1f7944fc4e4d"
   },
   "outputs": [
    {
     "data": {
      "text/plain": [
       "Male           1257\n",
       "Female         1208\n",
       "Transgender      34\n",
       "Name: Gender, dtype: int64"
      ]
     },
     "execution_count": 217,
     "metadata": {},
     "output_type": "execute_result"
    }
   ],
   "source": [
    "pd.value_counts(df['Gender'])"
   ]
  },
  {
   "cell_type": "code",
   "execution_count": 218,
   "metadata": {
    "colab": {
     "base_uri": "https://localhost:8080/"
    },
    "id": "lkQtiEpjfM5v",
    "outputId": "ab949c9e-d2bb-4b72-96c8-e794d194c39b"
   },
   "outputs": [
    {
     "data": {
      "text/plain": [
       "Mild        1591\n",
       "Moderate     525\n",
       "Severe       383\n",
       "Name: Severity, dtype: int64"
      ]
     },
     "execution_count": 218,
     "metadata": {},
     "output_type": "execute_result"
    }
   ],
   "source": [
    "pd.value_counts(df['Severity'])"
   ]
  },
  {
   "cell_type": "code",
   "execution_count": 219,
   "metadata": {
    "colab": {
     "base_uri": "https://localhost:8080/"
    },
    "id": "Ng725LtRfRkH",
    "outputId": "062896bb-8380-4f19-c100-590b2c331aec"
   },
   "outputs": [
    {
     "data": {
      "text/plain": [
       "No           1203\n",
       "Yes           638\n",
       "Not known     633\n",
       "yes            25\n",
       "Name: Contact_with_covid_patient, dtype: int64"
      ]
     },
     "execution_count": 219,
     "metadata": {},
     "output_type": "execute_result"
    }
   ],
   "source": [
    "pd.value_counts(df['Contact_with_covid_patient'])"
   ]
  },
  {
   "cell_type": "markdown",
   "metadata": {
    "id": "BKLRWD16f0yI"
   },
   "source": [
    "**We need to convert every text to lower case**"
   ]
  },
  {
   "cell_type": "code",
   "execution_count": 220,
   "metadata": {
    "id": "Z8-BygQWf5br"
   },
   "outputs": [],
   "source": [
    "df['Contact_with_covid_patient'] = df['Contact_with_covid_patient'].str.lower()"
   ]
  },
  {
   "cell_type": "code",
   "execution_count": 221,
   "metadata": {
    "colab": {
     "base_uri": "https://localhost:8080/"
    },
    "id": "f6JxhkxKgFuI",
    "outputId": "a0c2cb54-1b07-403a-aadf-04dc0ec0ab10"
   },
   "outputs": [
    {
     "data": {
      "text/plain": [
       "no           1203\n",
       "yes           663\n",
       "not known     633\n",
       "Name: Contact_with_covid_patient, dtype: int64"
      ]
     },
     "execution_count": 221,
     "metadata": {},
     "output_type": "execute_result"
    }
   ],
   "source": [
    "pd.value_counts(df['Contact_with_covid_patient'])"
   ]
  },
  {
   "cell_type": "code",
   "execution_count": 222,
   "metadata": {
    "id": "GCxKwm0pgNpI"
   },
   "outputs": [],
   "source": [
    "from sklearn.preprocessing import LabelEncoder, OneHotEncoder, MinMaxScaler"
   ]
  },
  {
   "cell_type": "code",
   "execution_count": 223,
   "metadata": {
    "id": "jni4qYWEgNiP"
   },
   "outputs": [],
   "source": [
    "gender_label = LabelEncoder()\n",
    "df['Gender'] = gender_label.fit_transform(df['Gender'])"
   ]
  },
  {
   "cell_type": "code",
   "execution_count": 224,
   "metadata": {
    "colab": {
     "base_uri": "https://localhost:8080/"
    },
    "id": "BLNd53fYg0Kz",
    "outputId": "651310f4-9e97-41ab-8070-376642bffee3"
   },
   "outputs": [
    {
     "data": {
      "text/plain": [
       "1    1257\n",
       "0    1208\n",
       "2      34\n",
       "Name: Gender, dtype: int64"
      ]
     },
     "execution_count": 224,
     "metadata": {},
     "output_type": "execute_result"
    }
   ],
   "source": [
    "pd.value_counts(df['Gender'])"
   ]
  },
  {
   "cell_type": "code",
   "execution_count": 225,
   "metadata": {
    "id": "Rvz4hngfttPT"
   },
   "outputs": [],
   "source": [
    "severity_label = LabelEncoder()\n",
    "df['Severity'] = severity_label.fit_transform(df['Severity'])"
   ]
  },
  {
   "cell_type": "code",
   "execution_count": 226,
   "metadata": {
    "id": "yd8UzGhBuaCl"
   },
   "outputs": [],
   "source": [
    "contact_label = LabelEncoder()\n",
    "df['Contact_with_covid_patient'] = severity_label.fit_transform(df['Contact_with_covid_patient'])"
   ]
  },
  {
   "cell_type": "code",
   "execution_count": 227,
   "metadata": {
    "id": "LgeXdPchus7P"
   },
   "outputs": [],
   "source": [
    "gender = df['Gender'].values\n",
    "severity = df['Severity'].values\n",
    "contact = df['Contact_with_covid_patient'].values"
   ]
  },
  {
   "cell_type": "code",
   "execution_count": 228,
   "metadata": {
    "colab": {
     "base_uri": "https://localhost:8080/"
    },
    "id": "OLjTyfVBvFzU",
    "outputId": "55b5fc96-e337-4c9b-fa85-b17614e91547"
   },
   "outputs": [
    {
     "data": {
      "text/plain": [
       "array([1, 1, 2, ..., 0, 0, 0])"
      ]
     },
     "execution_count": 228,
     "metadata": {},
     "output_type": "execute_result"
    }
   ],
   "source": [
    "gender"
   ]
  },
  {
   "cell_type": "code",
   "execution_count": 229,
   "metadata": {
    "colab": {
     "base_uri": "https://localhost:8080/"
    },
    "id": "YjCSBo6tvIkO",
    "outputId": "ecd679f9-a194-42bc-f0f8-a4d1064636db"
   },
   "outputs": [
    {
     "data": {
      "text/plain": [
       "array([0, 1, 2, ..., 0, 0, 2])"
      ]
     },
     "execution_count": 229,
     "metadata": {},
     "output_type": "execute_result"
    }
   ],
   "source": [
    "severity"
   ]
  },
  {
   "cell_type": "code",
   "execution_count": 230,
   "metadata": {
    "colab": {
     "base_uri": "https://localhost:8080/"
    },
    "id": "EP55IoDcvKbm",
    "outputId": "49b52b2f-aac5-4f7e-bbed-8b41a0c196b4"
   },
   "outputs": [
    {
     "data": {
      "text/plain": [
       "array([0, 1, 0, ..., 2, 1, 2])"
      ]
     },
     "execution_count": 230,
     "metadata": {},
     "output_type": "execute_result"
    }
   ],
   "source": [
    "contact"
   ]
  },
  {
   "cell_type": "markdown",
   "metadata": {
    "id": "hsR1v8ctq11S"
   },
   "source": [
    "# After doing LabelEncoding we found that there are 3 classes in gender etc. So we need to do OneHotEncoding to convert it into binary by making necessary individual columns(please check txt file in folder)"
   ]
  },
  {
   "cell_type": "code",
   "execution_count": 231,
   "metadata": {
    "id": "rCz55meLq0RG"
   },
   "outputs": [],
   "source": [
    "gender_onehot = OneHotEncoder()\n",
    "gender = gender_onehot.fit_transform(gender.reshape(-1,1)) # reshape is there because OneHotEncoding needs 2D array"
   ]
  },
  {
   "cell_type": "code",
   "execution_count": 232,
   "metadata": {
    "colab": {
     "base_uri": "https://localhost:8080/"
    },
    "id": "1W9Tkz-ExKnT",
    "outputId": "0464ce43-50c5-4504-94be-6224c77e4fc4"
   },
   "outputs": [
    {
     "data": {
      "text/plain": [
       "<2499x3 sparse matrix of type '<class 'numpy.float64'>'\n",
       "\twith 2499 stored elements in Compressed Sparse Row format>"
      ]
     },
     "execution_count": 232,
     "metadata": {},
     "output_type": "execute_result"
    }
   ],
   "source": [
    "gender"
   ]
  },
  {
   "cell_type": "code",
   "execution_count": 233,
   "metadata": {
    "id": "o0C1CYvGxiGz"
   },
   "outputs": [],
   "source": [
    "gender = gender.toarray()"
   ]
  },
  {
   "cell_type": "code",
   "execution_count": 234,
   "metadata": {
    "colab": {
     "base_uri": "https://localhost:8080/"
    },
    "id": "DkH3xII-xqn7",
    "outputId": "9995627f-c3b5-4760-faf3-355db9574e90"
   },
   "outputs": [
    {
     "data": {
      "text/plain": [
       "array([[0., 1., 0.],\n",
       "       [0., 1., 0.],\n",
       "       [0., 0., 1.],\n",
       "       ...,\n",
       "       [1., 0., 0.],\n",
       "       [1., 0., 0.],\n",
       "       [1., 0., 0.]])"
      ]
     },
     "execution_count": 234,
     "metadata": {},
     "output_type": "execute_result"
    }
   ],
   "source": [
    "gender"
   ]
  },
  {
   "cell_type": "code",
   "execution_count": 235,
   "metadata": {
    "id": "i5k6gJTGxu7j"
   },
   "outputs": [],
   "source": [
    "severity_onehot = OneHotEncoder()\n",
    "severity = severity_onehot.fit_transform(severity.reshape(-1,1)).toarray()"
   ]
  },
  {
   "cell_type": "code",
   "execution_count": 236,
   "metadata": {
    "colab": {
     "base_uri": "https://localhost:8080/"
    },
    "id": "q8naNifLyC8f",
    "outputId": "8463cff4-bcb2-4939-aed0-3ef853307b41"
   },
   "outputs": [
    {
     "data": {
      "text/plain": [
       "array([[1., 0., 0.],\n",
       "       [0., 1., 0.],\n",
       "       [0., 0., 1.],\n",
       "       ...,\n",
       "       [1., 0., 0.],\n",
       "       [1., 0., 0.],\n",
       "       [0., 0., 1.]])"
      ]
     },
     "execution_count": 236,
     "metadata": {},
     "output_type": "execute_result"
    }
   ],
   "source": [
    "severity"
   ]
  },
  {
   "cell_type": "code",
   "execution_count": 237,
   "metadata": {
    "id": "JKQSm6atyR4k"
   },
   "outputs": [],
   "source": [
    "contact_onehot = OneHotEncoder()\n",
    "contact = contact_onehot.fit_transform(contact.reshape(-1,1)).toarray()"
   ]
  },
  {
   "cell_type": "code",
   "execution_count": 238,
   "metadata": {
    "colab": {
     "base_uri": "https://localhost:8080/"
    },
    "id": "oMvvQtaZyZwE",
    "outputId": "c0bfd4c8-c151-4513-a989-52461b4b969d"
   },
   "outputs": [
    {
     "data": {
      "text/plain": [
       "array([[1., 0., 0.],\n",
       "       [0., 1., 0.],\n",
       "       [1., 0., 0.],\n",
       "       ...,\n",
       "       [0., 0., 1.],\n",
       "       [0., 1., 0.],\n",
       "       [0., 0., 1.]])"
      ]
     },
     "execution_count": 238,
     "metadata": {},
     "output_type": "execute_result"
    }
   ],
   "source": [
    "contact"
   ]
  },
  {
   "cell_type": "code",
   "execution_count": 239,
   "metadata": {
    "colab": {
     "base_uri": "https://localhost:8080/"
    },
    "id": "EgXgCn7SzLEG",
    "outputId": "e8615265-1f58-4c5b-fa56-6b66766c5b70"
   },
   "outputs": [
    {
     "data": {
      "text/plain": [
       "Index(['Country', 'Age', 'Gender', 'fever', 'Bodypain', 'Runny_nose',\n",
       "       'Difficulty_in_breathing', 'Nasal_congestion', 'Sore_throat',\n",
       "       'Severity', 'Contact_with_covid_patient', 'Infected'],\n",
       "      dtype='object')"
      ]
     },
     "execution_count": 239,
     "metadata": {},
     "output_type": "execute_result"
    }
   ],
   "source": [
    "df.columns"
   ]
  },
  {
   "cell_type": "code",
   "execution_count": 240,
   "metadata": {
    "id": "vw7N7ffgyolQ"
   },
   "outputs": [],
   "source": [
    "# drop columns\n",
    "df.drop(columns=['Gender','Country','Severity','Contact_with_covid_patient'],inplace=True)"
   ]
  },
  {
   "cell_type": "code",
   "execution_count": 241,
   "metadata": {
    "colab": {
     "base_uri": "https://localhost:8080/",
     "height": 206
    },
    "id": "IUZuheje1EN0",
    "outputId": "e6c0f583-a72a-433e-b88f-abe5e62ddbde"
   },
   "outputs": [
    {
     "data": {
      "text/html": [
       "<div>\n",
       "<style scoped>\n",
       "    .dataframe tbody tr th:only-of-type {\n",
       "        vertical-align: middle;\n",
       "    }\n",
       "\n",
       "    .dataframe tbody tr th {\n",
       "        vertical-align: top;\n",
       "    }\n",
       "\n",
       "    .dataframe thead th {\n",
       "        text-align: right;\n",
       "    }\n",
       "</style>\n",
       "<table border=\"1\" class=\"dataframe\">\n",
       "  <thead>\n",
       "    <tr style=\"text-align: right;\">\n",
       "      <th></th>\n",
       "      <th>Age</th>\n",
       "      <th>fever</th>\n",
       "      <th>Bodypain</th>\n",
       "      <th>Runny_nose</th>\n",
       "      <th>Difficulty_in_breathing</th>\n",
       "      <th>Nasal_congestion</th>\n",
       "      <th>Sore_throat</th>\n",
       "      <th>Infected</th>\n",
       "    </tr>\n",
       "  </thead>\n",
       "  <tbody>\n",
       "    <tr>\n",
       "      <th>0</th>\n",
       "      <td>10</td>\n",
       "      <td>102</td>\n",
       "      <td>1</td>\n",
       "      <td>0</td>\n",
       "      <td>0</td>\n",
       "      <td>0</td>\n",
       "      <td>1</td>\n",
       "      <td>0</td>\n",
       "    </tr>\n",
       "    <tr>\n",
       "      <th>1</th>\n",
       "      <td>20</td>\n",
       "      <td>103</td>\n",
       "      <td>1</td>\n",
       "      <td>1</td>\n",
       "      <td>0</td>\n",
       "      <td>0</td>\n",
       "      <td>0</td>\n",
       "      <td>1</td>\n",
       "    </tr>\n",
       "    <tr>\n",
       "      <th>2</th>\n",
       "      <td>55</td>\n",
       "      <td>99</td>\n",
       "      <td>0</td>\n",
       "      <td>0</td>\n",
       "      <td>0</td>\n",
       "      <td>1</td>\n",
       "      <td>1</td>\n",
       "      <td>0</td>\n",
       "    </tr>\n",
       "    <tr>\n",
       "      <th>3</th>\n",
       "      <td>37</td>\n",
       "      <td>100</td>\n",
       "      <td>0</td>\n",
       "      <td>1</td>\n",
       "      <td>1</td>\n",
       "      <td>0</td>\n",
       "      <td>0</td>\n",
       "      <td>1</td>\n",
       "    </tr>\n",
       "    <tr>\n",
       "      <th>4</th>\n",
       "      <td>45</td>\n",
       "      <td>101</td>\n",
       "      <td>1</td>\n",
       "      <td>1</td>\n",
       "      <td>1</td>\n",
       "      <td>1</td>\n",
       "      <td>0</td>\n",
       "      <td>1</td>\n",
       "    </tr>\n",
       "  </tbody>\n",
       "</table>\n",
       "</div>"
      ],
      "text/plain": [
       "   Age  fever  Bodypain  Runny_nose  Difficulty_in_breathing  \\\n",
       "0   10    102         1           0                        0   \n",
       "1   20    103         1           1                        0   \n",
       "2   55     99         0           0                        0   \n",
       "3   37    100         0           1                        1   \n",
       "4   45    101         1           1                        1   \n",
       "\n",
       "   Nasal_congestion  Sore_throat  Infected  \n",
       "0                 0            1         0  \n",
       "1                 0            0         1  \n",
       "2                 1            1         0  \n",
       "3                 0            0         1  \n",
       "4                 1            0         1  "
      ]
     },
     "execution_count": 241,
     "metadata": {},
     "output_type": "execute_result"
    }
   ],
   "source": [
    "df.head(5)"
   ]
  },
  {
   "cell_type": "code",
   "execution_count": 242,
   "metadata": {
    "id": "sJTUO_fL0o3h"
   },
   "outputs": [],
   "source": [
    "X = df.iloc[:,:-1].values"
   ]
  },
  {
   "cell_type": "code",
   "execution_count": 243,
   "metadata": {
    "id": "rOwbcpgI0vxB"
   },
   "outputs": [],
   "source": [
    "y = df.iloc[:,-1].values"
   ]
  },
  {
   "cell_type": "code",
   "execution_count": 244,
   "metadata": {
    "id": "KMYdX0NV007M"
   },
   "outputs": [],
   "source": [
    "# Merge three columns which we have onehotencoded with X\n",
    "import numpy as np"
   ]
  },
  {
   "cell_type": "code",
   "execution_count": 245,
   "metadata": {
    "id": "z8NY66nE1STq"
   },
   "outputs": [],
   "source": [
    "X = np.c_[X,gender,severity,contact]"
   ]
  },
  {
   "cell_type": "code",
   "execution_count": 246,
   "metadata": {
    "colab": {
     "base_uri": "https://localhost:8080/"
    },
    "id": "GsMEV2-S3BAG",
    "outputId": "45115f5b-5b6e-4e17-96a9-eb1c09f29160"
   },
   "outputs": [
    {
     "data": {
      "text/plain": [
       "array([ 10., 102.,   1.,   0.,   0.,   0.,   1.,   0.,   1.,   0.,   1.,\n",
       "         0.,   0.,   1.,   0.,   0.])"
      ]
     },
     "execution_count": 246,
     "metadata": {},
     "output_type": "execute_result"
    }
   ],
   "source": [
    "X[0]"
   ]
  },
  {
   "cell_type": "code",
   "execution_count": 247,
   "metadata": {
    "colab": {
     "base_uri": "https://localhost:8080/"
    },
    "id": "q2We_0zJ3ZxG",
    "outputId": "82064eaa-bcce-4ce1-f753-b2f24ef7b00b"
   },
   "outputs": [
    {
     "data": {
      "text/plain": [
       "array([0, 1, 0, ..., 1, 1, 1], dtype=int64)"
      ]
     },
     "execution_count": 247,
     "metadata": {},
     "output_type": "execute_result"
    }
   ],
   "source": [
    "y"
   ]
  },
  {
   "cell_type": "markdown",
   "metadata": {
    "id": "4BY-H7-F3wFf"
   },
   "source": [
    "# Feature Scaling(here we use Normalization)\n",
    "**Because we need to Normalize the fever column with others**\n",
    "It converts b/w 0-1"
   ]
  },
  {
   "cell_type": "code",
   "execution_count": 248,
   "metadata": {
    "id": "xMBzUesp3eH-"
   },
   "outputs": [],
   "source": [
    "minmax = MinMaxScaler()\n",
    "X = minmax.fit_transform(X)"
   ]
  },
  {
   "cell_type": "code",
   "execution_count": 249,
   "metadata": {
    "colab": {
     "base_uri": "https://localhost:8080/"
    },
    "id": "cG5xKtmo4DnX",
    "outputId": "df0549e8-216f-4f67-f47d-a554298a56c1"
   },
   "outputs": [
    {
     "data": {
      "text/plain": [
       "array([0.        , 0.66666667, 1.        , 0.        , 0.        ,\n",
       "       0.        , 1.        , 0.        , 1.        , 0.        ,\n",
       "       1.        , 0.        , 0.        , 1.        , 0.        ,\n",
       "       0.        ])"
      ]
     },
     "execution_count": 249,
     "metadata": {},
     "output_type": "execute_result"
    }
   ],
   "source": [
    "X[0]"
   ]
  },
  {
   "cell_type": "markdown",
   "metadata": {
    "id": "-335FsSS4YP4"
   },
   "source": [
    "# Train & Test split"
   ]
  },
  {
   "cell_type": "code",
   "execution_count": 250,
   "metadata": {
    "id": "qxnx9gUz4WEo"
   },
   "outputs": [],
   "source": [
    "from sklearn.model_selection import train_test_split\n",
    "X_train, X_test, y_train, y_test = train_test_split(X,y,test_size=0.2)"
   ]
  },
  {
   "cell_type": "code",
   "execution_count": 251,
   "metadata": {
    "colab": {
     "base_uri": "https://localhost:8080/"
    },
    "id": "wOp7ilhp5Hv0",
    "outputId": "d035b935-6cd0-470d-9f60-6e2c73e56c18"
   },
   "outputs": [
    {
     "data": {
      "text/plain": [
       "(1999, 16)"
      ]
     },
     "execution_count": 251,
     "metadata": {},
     "output_type": "execute_result"
    }
   ],
   "source": [
    "X_train.shape"
   ]
  },
  {
   "cell_type": "code",
   "execution_count": 252,
   "metadata": {
    "colab": {
     "base_uri": "https://localhost:8080/"
    },
    "id": "56Wotuim5KxU",
    "outputId": "1ed21bde-e13c-4b38-91e5-afb72cb54490"
   },
   "outputs": [
    {
     "data": {
      "text/plain": [
       "(500, 16)"
      ]
     },
     "execution_count": 252,
     "metadata": {},
     "output_type": "execute_result"
    }
   ],
   "source": [
    "X_test.shape"
   ]
  },
  {
   "cell_type": "markdown",
   "metadata": {
    "id": "tIVEc58Y5Tp1"
   },
   "source": [
    "# Logistic Regression Applying \n",
    "**For ML model training**"
   ]
  },
  {
   "cell_type": "code",
   "execution_count": 253,
   "metadata": {
    "id": "QFRE24dG5Yg7"
   },
   "outputs": [],
   "source": [
    "from sklearn.linear_model import LogisticRegression"
   ]
  },
  {
   "cell_type": "code",
   "execution_count": 254,
   "metadata": {
    "colab": {
     "base_uri": "https://localhost:8080/",
     "height": 75
    },
    "id": "B14-qAoT5pfr",
    "outputId": "778488ed-1da9-4c8e-84c9-a22944c958b9"
   },
   "outputs": [
    {
     "data": {
      "text/plain": [
       "LogisticRegression()"
      ]
     },
     "execution_count": 254,
     "metadata": {},
     "output_type": "execute_result"
    }
   ],
   "source": [
    "model = LogisticRegression()\n",
    "model.fit(X_train,y_train)"
   ]
  },
  {
   "cell_type": "code",
   "execution_count": 255,
   "metadata": {
    "id": "S3qVi59W6krt"
   },
   "outputs": [],
   "source": [
    "y_pred = model.predict(X_test)"
   ]
  },
  {
   "cell_type": "code",
   "execution_count": 256,
   "metadata": {
    "colab": {
     "base_uri": "https://localhost:8080/"
    },
    "id": "RFP6fK1K7rGK",
    "outputId": "0b7d2c9f-9d11-47c0-ec42-b78382846847"
   },
   "outputs": [
    {
     "data": {
      "text/plain": [
       "0.938"
      ]
     },
     "execution_count": 256,
     "metadata": {},
     "output_type": "execute_result"
    }
   ],
   "source": [
    "from sklearn.metrics import accuracy_score,confusion_matrix\n",
    "accuracy_score(y_test,y_pred) #Accuracy Score 94%"
   ]
  },
  {
   "cell_type": "code",
   "execution_count": 257,
   "metadata": {
    "colab": {
     "base_uri": "https://localhost:8080/"
    },
    "id": "RvXkzlTo8Fe_",
    "outputId": "4e55430c-2c9b-4031-c1ea-bf7a89e5838d"
   },
   "outputs": [
    {
     "data": {
      "text/plain": [
       "array([[233,  19],\n",
       "       [ 12, 236]], dtype=int64)"
      ]
     },
     "execution_count": 257,
     "metadata": {},
     "output_type": "execute_result"
    }
   ],
   "source": [
    "confusion_matrix(y_test,y_pred)"
   ]
  },
  {
   "cell_type": "code",
   "execution_count": 258,
   "metadata": {
    "colab": {
     "base_uri": "https://localhost:8080/"
    },
    "id": "JZKZ6MCg8oh3",
    "outputId": "f93ee6e2-3623-4aa6-b724-dce4b143086f"
   },
   "outputs": [
    {
     "data": {
      "text/plain": [
       "(500,)"
      ]
     },
     "execution_count": 258,
     "metadata": {},
     "output_type": "execute_result"
    }
   ],
   "source": [
    "y_pred.shape"
   ]
  },
  {
   "cell_type": "code",
   "execution_count": 259,
   "metadata": {
    "colab": {
     "base_uri": "https://localhost:8080/"
    },
    "id": "QX7sbN-z8tsQ",
    "outputId": "cc52e3d7-6b54-48ae-9576-12e6402f0136"
   },
   "outputs": [
    {
     "data": {
      "text/plain": [
       "471"
      ]
     },
     "execution_count": 259,
     "metadata": {},
     "output_type": "execute_result"
    }
   ],
   "source": [
    "# Correct Prediction\n",
    "217+254"
   ]
  },
  {
   "cell_type": "code",
   "execution_count": 260,
   "metadata": {
    "colab": {
     "base_uri": "https://localhost:8080/"
    },
    "id": "m1_d0K7W8zZH",
    "outputId": "1326e51d-0c81-48f8-c719-eb09e774fdbb"
   },
   "outputs": [
    {
     "data": {
      "text/plain": [
       "29"
      ]
     },
     "execution_count": 260,
     "metadata": {},
     "output_type": "execute_result"
    }
   ],
   "source": [
    "# wrong prediction\n",
    "12+17"
   ]
  },
  {
   "cell_type": "code",
   "execution_count": 261,
   "metadata": {
    "colab": {
     "base_uri": "https://localhost:8080/"
    },
    "id": "vfpXK12EBPta",
    "outputId": "f2bf5ad1-1e0c-492e-e0b8-dfcec5e8c916"
   },
   "outputs": [
    {
     "data": {
      "text/plain": [
       "0.9273504273504274"
      ]
     },
     "execution_count": 261,
     "metadata": {},
     "output_type": "execute_result"
    }
   ],
   "source": [
    "# Sensitivity\n",
    "217/(217+17)"
   ]
  },
  {
   "cell_type": "code",
   "execution_count": 262,
   "metadata": {
    "colab": {
     "base_uri": "https://localhost:8080/"
    },
    "id": "OLZB5nMuBbb6",
    "outputId": "a4a654b2-5c09-4a17-d966-0798232152ef"
   },
   "outputs": [
    {
     "data": {
      "text/plain": [
       "0.9548872180451128"
      ]
     },
     "execution_count": 262,
     "metadata": {},
     "output_type": "execute_result"
    }
   ],
   "source": [
    "# Specificity\n",
    "254/(254+12)"
   ]
  },
  {
   "cell_type": "markdown",
   "metadata": {
    "id": "2X6VWzitw5P8"
   },
   "source": [
    "# ROC AUC Curve"
   ]
  },
  {
   "cell_type": "code",
   "execution_count": 263,
   "metadata": {
    "id": "ymqWmvOoMBaO"
   },
   "outputs": [],
   "source": [
    "import matplotlib.pyplot as plt"
   ]
  },
  {
   "cell_type": "code",
   "execution_count": 264,
   "metadata": {
    "id": "5tsKETZrw2I-"
   },
   "outputs": [],
   "source": [
    "from sklearn.metrics import roc_curve"
   ]
  },
  {
   "cell_type": "code",
   "execution_count": 265,
   "metadata": {
    "id": "6sdoiyZJxJCD"
   },
   "outputs": [],
   "source": [
    "pred_prob = model.predict_proba(X_test)"
   ]
  },
  {
   "cell_type": "code",
   "execution_count": 266,
   "metadata": {
    "colab": {
     "base_uri": "https://localhost:8080/"
    },
    "id": "u10btfm5xY_N",
    "outputId": "658dff16-fb94-4d9b-e468-7081a3e59c46"
   },
   "outputs": [
    {
     "data": {
      "text/plain": [
       "array([1.40924856e-03, 1.57941027e-03, 3.01498740e-03, 1.45821602e-03,\n",
       "       2.69710861e-01, 9.25670000e-03, 9.29609930e-01, 2.69710861e-01,\n",
       "       2.64002005e-03, 1.40924856e-03, 2.75313490e-02, 9.29609930e-01,\n",
       "       9.82546586e-01, 9.99496561e-01, 9.55927144e-01, 9.98694805e-01,\n",
       "       9.45937686e-01, 9.73854751e-01, 1.27283187e-03, 9.99140692e-01,\n",
       "       9.25670000e-03, 1.40924856e-03, 1.40924856e-03, 1.57941027e-03,\n",
       "       8.14952051e-01, 9.55927144e-01, 6.42256337e-02, 9.99140692e-01,\n",
       "       4.36739839e-01, 9.29609930e-01, 1.45821602e-03, 2.75313490e-02,\n",
       "       7.30086058e-01, 2.64002005e-03, 9.59994262e-01, 9.73854751e-01,\n",
       "       9.98694805e-01, 2.75313490e-02, 2.39892552e-03, 2.69710861e-01,\n",
       "       9.29609930e-01, 2.75313490e-02, 9.70667968e-01, 9.82546586e-01,\n",
       "       4.36739839e-01, 2.63388693e-02, 6.96463387e-01, 2.69710861e-01,\n",
       "       7.95865407e-01, 2.75313490e-02, 9.98748194e-01, 9.29609930e-01,\n",
       "       9.33237252e-04, 7.10449517e-01, 2.98652613e-01, 9.66731664e-01,\n",
       "       7.88607377e-02, 4.36739839e-01, 9.29609930e-01, 2.64002005e-03,\n",
       "       8.31921396e-04, 2.63388693e-02, 9.29609930e-01, 1.45821602e-03,\n",
       "       9.82546586e-01, 8.08690117e-01, 9.59994262e-01, 6.42256337e-02,\n",
       "       5.75406394e-01, 2.75313490e-02, 9.98748194e-01, 9.98694805e-01,\n",
       "       2.75313490e-02, 2.79678310e-03, 7.88607377e-02, 9.75653347e-01,\n",
       "       9.81871942e-01, 9.55927144e-01, 4.24260087e-01, 9.55927144e-01,\n",
       "       9.33237252e-04, 5.75406394e-01, 9.98748194e-01, 9.98806754e-01,\n",
       "       9.99140692e-01, 8.14952051e-01, 5.07903766e-03, 9.82546586e-01,\n",
       "       2.75313490e-02, 1.37923757e-02, 1.40924856e-03, 9.82546586e-01,\n",
       "       9.98806754e-01, 9.95306288e-01, 1.27283187e-03, 4.49893605e-03,\n",
       "       3.75677002e-01, 1.40924856e-03, 5.75406394e-01, 9.29609930e-01,\n",
       "       1.57941027e-03, 8.08690117e-01, 1.00028768e-03, 6.96463387e-01,\n",
       "       2.79678310e-03, 9.29609930e-01, 5.75406394e-01, 9.99142834e-01,\n",
       "       2.39892552e-03, 1.36822848e-02, 3.75677002e-01, 9.29609930e-01,\n",
       "       9.82546586e-01, 8.14952051e-01, 1.40924856e-03, 9.55927144e-01,\n",
       "       2.93260138e-02, 9.98748194e-01, 9.73854751e-01, 9.55927144e-01,\n",
       "       9.29609930e-01, 1.17706200e-03, 9.98806754e-01, 9.97647175e-01,\n",
       "       2.64002005e-03, 4.24260087e-01, 9.70667968e-01, 9.25670000e-03,\n",
       "       2.93260138e-02, 9.55927144e-01, 9.73854751e-01, 1.45821602e-03,\n",
       "       2.64002005e-03, 9.66731664e-01, 9.98748194e-01, 2.10953005e-03,\n",
       "       8.08690117e-01, 1.57941027e-03, 7.88607377e-02, 9.70667968e-01,\n",
       "       9.81871942e-01, 1.36822848e-02, 6.77575859e-01, 2.93260138e-02,\n",
       "       8.14952051e-01, 1.36822848e-02, 4.24260087e-01, 1.40924856e-03,\n",
       "       1.17706200e-03, 5.75406394e-01, 9.25670000e-03, 9.82546586e-01,\n",
       "       3.01498740e-03, 2.79678310e-03, 3.75677002e-01, 5.75406394e-01,\n",
       "       8.08690117e-01, 9.29609930e-01, 9.99496561e-01, 1.37923757e-02,\n",
       "       9.98726191e-01, 5.92976326e-01, 2.63388693e-02, 1.36822848e-02,\n",
       "       9.99140692e-01, 9.33237252e-04, 9.25670000e-03, 5.92976326e-01,\n",
       "       9.99140692e-01, 2.79678310e-03, 9.25670000e-03, 9.99140692e-01,\n",
       "       9.55927144e-01, 2.64002005e-03, 9.66731664e-01, 9.73854751e-01,\n",
       "       5.07903766e-03, 5.92976326e-01, 7.88607377e-02, 4.96442778e-02,\n",
       "       6.96463387e-01, 2.69710861e-01, 1.36822848e-02, 1.01084399e-03,\n",
       "       9.97647175e-01, 1.37923757e-02, 1.40924856e-03, 1.40924856e-03,\n",
       "       6.96463387e-01, 1.72107225e-01, 4.36739839e-01, 5.75406394e-01,\n",
       "       3.75677002e-01, 9.99140692e-01, 8.14952051e-01, 1.37923757e-02,\n",
       "       2.64002005e-03, 9.81871942e-01, 9.99496561e-01, 9.66731664e-01,\n",
       "       5.75406394e-01, 2.98652613e-01, 2.63388693e-02, 1.27283187e-03,\n",
       "       8.31921396e-04, 1.36822848e-02, 9.98748194e-01, 4.54250570e-01,\n",
       "       1.37923757e-02, 5.45394731e-01, 1.03152075e-01, 3.75677002e-01,\n",
       "       9.29609930e-01, 3.75677002e-01, 9.97647175e-01, 3.01498740e-03,\n",
       "       2.12084825e-01, 9.98694805e-01, 1.36822848e-02, 9.77843598e-01,\n",
       "       2.64002005e-03, 1.45821602e-03, 1.45821602e-03, 9.33497816e-01,\n",
       "       9.73854751e-01, 9.98726191e-01, 2.69710861e-01, 9.70667968e-01,\n",
       "       1.40924856e-03, 1.37923757e-02, 5.92976326e-01, 8.14952051e-01,\n",
       "       9.98694805e-01, 8.14952051e-01, 6.42256337e-02, 1.27283187e-03,\n",
       "       3.01498740e-03, 6.96463387e-01, 2.93260138e-02, 1.40924856e-03,\n",
       "       9.82546586e-01, 1.57941027e-03, 6.96463387e-01, 9.25670000e-03,\n",
       "       9.29609930e-01, 9.98748194e-01, 5.92976326e-01, 9.99140692e-01,\n",
       "       8.14952051e-01, 8.14952051e-01, 6.42256337e-02, 1.03152075e-01,\n",
       "       3.75677002e-01, 9.29609930e-01, 9.99142834e-01, 5.75406394e-01,\n",
       "       2.75313490e-02, 2.98652613e-01, 9.59994262e-01, 9.33237252e-04,\n",
       "       3.75677002e-01, 4.96442778e-02, 8.31921396e-04, 6.96463387e-01,\n",
       "       1.09598256e-02, 9.99140692e-01, 4.36739839e-01, 9.70667968e-01,\n",
       "       6.62300972e-01, 7.88607377e-02, 2.69710861e-01, 2.93260138e-02,\n",
       "       9.59994262e-01, 3.01498740e-03, 9.99357703e-01, 9.99142834e-01,\n",
       "       6.96463387e-01, 9.98748194e-01, 2.64002005e-03, 9.55927144e-01,\n",
       "       8.14952051e-01, 9.98694805e-01, 9.66731664e-01, 2.63388693e-02,\n",
       "       9.99140692e-01, 9.99142834e-01, 9.98694805e-01, 9.82546586e-01,\n",
       "       9.99140692e-01, 6.96463387e-01, 6.62300972e-01, 2.69710861e-01,\n",
       "       1.17706200e-03, 1.72107225e-01, 1.45821602e-03, 6.42256337e-02,\n",
       "       9.55927144e-01, 8.14952051e-01, 9.77843598e-01, 9.82546586e-01,\n",
       "       9.99585709e-01, 3.01498740e-03, 8.14952051e-01, 8.08690117e-01,\n",
       "       2.79678310e-03, 5.92976326e-01, 2.69710861e-01, 9.98748194e-01,\n",
       "       3.01498740e-03, 4.24260087e-01, 9.77843598e-01, 9.81871942e-01,\n",
       "       4.36739839e-01, 9.55927144e-01, 5.75406394e-01, 9.82546586e-01,\n",
       "       2.63388693e-02, 4.96442778e-02, 9.95306288e-01, 9.66731664e-01,\n",
       "       9.97647175e-01, 6.42256337e-02, 8.14952051e-01, 9.70667968e-01,\n",
       "       2.69710861e-01, 3.75677002e-01, 9.99357703e-01, 4.96442778e-02,\n",
       "       6.96463387e-01, 9.82546586e-01, 2.69710861e-01, 9.98726191e-01,\n",
       "       8.49860018e-01, 6.96463387e-01, 5.92976326e-01, 4.24260087e-01,\n",
       "       7.88607377e-02, 7.88607377e-02, 9.98726191e-01, 9.48328760e-01,\n",
       "       9.82546586e-01, 6.42256337e-02, 1.00028768e-03, 7.88607377e-02,\n",
       "       2.63388693e-02, 8.08690117e-01, 2.10953005e-03, 1.03152075e-01,\n",
       "       2.93260138e-02, 9.66731664e-01, 9.19435065e-01, 2.69710861e-01,\n",
       "       4.36739839e-01, 1.36822848e-02, 9.55927144e-01, 9.98694805e-01,\n",
       "       5.75406394e-01, 6.33595217e-01, 8.08690117e-01, 9.98726191e-01,\n",
       "       6.42256337e-02, 1.37923757e-02, 2.69710861e-01, 5.07903766e-03,\n",
       "       5.54040531e-03, 9.29609930e-01, 1.37923757e-02, 9.82546586e-01,\n",
       "       9.82546586e-01, 9.98694805e-01, 1.27283187e-03, 9.66731664e-01,\n",
       "       5.54040531e-03, 9.97647175e-01, 2.69710861e-01, 9.98748194e-01,\n",
       "       9.82546586e-01, 5.92976326e-01, 5.75406394e-01, 6.42256337e-02,\n",
       "       1.37923757e-02, 9.25670000e-03, 5.75406394e-01, 6.42256337e-02,\n",
       "       9.99496561e-01, 2.64002005e-03, 8.14952051e-01, 1.40924856e-03,\n",
       "       9.99140692e-01, 1.36822848e-02, 8.49860018e-01, 8.14952051e-01,\n",
       "       9.70667968e-01, 2.75313490e-02, 3.01498740e-03, 2.64002005e-03,\n",
       "       9.98748194e-01, 9.25670000e-03, 2.98652613e-01, 6.62300972e-01,\n",
       "       1.36822848e-02, 9.82546586e-01, 9.48328760e-01, 6.42256337e-02,\n",
       "       9.98748194e-01, 9.82546586e-01, 8.08690117e-01, 9.70667968e-01,\n",
       "       9.45937686e-01, 1.40924856e-03, 5.92976326e-01, 7.88607377e-02,\n",
       "       2.12084825e-01, 9.98806754e-01, 5.07903766e-03, 9.59994262e-01,\n",
       "       1.03152075e-01, 8.14952051e-01, 2.63388693e-02, 1.03152075e-01,\n",
       "       1.45821602e-03, 6.96463387e-01, 2.64002005e-03, 4.96442778e-02,\n",
       "       5.07903766e-03, 5.92976326e-01, 2.98652613e-01, 9.70667968e-01,\n",
       "       5.75406394e-01, 5.75406394e-01, 2.69710861e-01, 9.73854751e-01,\n",
       "       3.75677002e-01, 9.98694805e-01, 2.75313490e-02, 9.98726191e-01,\n",
       "       8.14952051e-01, 1.40924856e-03, 1.40924856e-03, 1.45821602e-03,\n",
       "       9.29609930e-01, 2.93260138e-02, 2.10953005e-03, 1.01084399e-03,\n",
       "       9.66731664e-01, 2.98652613e-01, 9.98726191e-01, 6.62300972e-01,\n",
       "       9.99140692e-01, 4.36739839e-01, 1.40924856e-03, 9.99140692e-01,\n",
       "       9.81871942e-01, 9.70667968e-01, 9.98806754e-01, 5.75406394e-01,\n",
       "       9.99496561e-01, 8.34765374e-01, 8.08690117e-01, 1.45821602e-03,\n",
       "       2.64002005e-03, 9.70667968e-01, 9.98748194e-01, 6.42256337e-02,\n",
       "       1.72107225e-01, 4.36739839e-01, 9.82546586e-01, 9.25670000e-03,\n",
       "       2.75313490e-02, 2.69710861e-01, 9.88361257e-01, 9.19435065e-01,\n",
       "       5.75406394e-01, 2.98652613e-01, 2.39892552e-03, 1.37923757e-02,\n",
       "       9.82546586e-01, 9.95306288e-01, 9.55927144e-01, 9.29609930e-01,\n",
       "       2.63388693e-02, 1.00028768e-03, 9.99142834e-01, 9.25670000e-03,\n",
       "       9.98726191e-01, 9.25670000e-03, 2.64002005e-03, 1.37923757e-02,\n",
       "       5.75406394e-01, 2.75313490e-02, 2.75313490e-02, 5.75406394e-01,\n",
       "       9.89928722e-01, 9.70667968e-01, 7.88607377e-02, 9.98726191e-01,\n",
       "       9.25670000e-03, 5.54040531e-03, 9.98726191e-01, 5.54040531e-03])"
      ]
     },
     "execution_count": 266,
     "metadata": {},
     "output_type": "execute_result"
    }
   ],
   "source": [
    "pred_prob[:,1]"
   ]
  },
  {
   "cell_type": "code",
   "execution_count": 267,
   "metadata": {
    "id": "6564CQV4xpQc"
   },
   "outputs": [],
   "source": [
    "fpr, tpr, thresh = roc_curve(y_test, pred_prob[:,1],pos_label=1)"
   ]
  },
  {
   "cell_type": "code",
   "execution_count": 268,
   "metadata": {
    "id": "et7z4AQ-ybC2"
   },
   "outputs": [],
   "source": [
    "#thresh\n",
    "\n",
    "random_prob = [0 for i in range(len(y_test))]\n",
    "p_tpr, p_fpr, _ = roc_curve(y_test, random_prob, pos_label = 1)"
   ]
  },
  {
   "cell_type": "code",
   "execution_count": 269,
   "metadata": {
    "colab": {
     "base_uri": "https://localhost:8080/",
     "height": 430
    },
    "id": "fxtjbJnRyqHN",
    "outputId": "02b99603-b68b-4561-8205-e19c4ca55155"
   },
   "outputs": [
    {
     "data": {
      "image/png": "[encoded data removed]",
      "text/plain": [
       "<Figure size 640x480 with 1 Axes>"
      ]
     },
     "metadata": {},
     "output_type": "display_data"
    }
   ],
   "source": [
    "plt.plot(fpr,tpr,linestyle='--')\n",
    "plt.plot(p_fpr, p_tpr, color='red')\n",
    "plt.show()"
   ]
  },
  {
   "cell_type": "markdown",
   "metadata": {
    "id": "Lu5S1q5t0wR_"
   },
   "source": [
    "# To save python ML file for GUI app "
   ]
  },
  {
   "cell_type": "code",
   "execution_count": 270,
   "metadata": {
    "id": "11LZ5fIl0Oq3"
   },
   "outputs": [],
   "source": [
    "import pickle as pkl"
   ]
  },
  {
   "cell_type": "code",
   "execution_count": 271,
   "metadata": {
    "id": "lJ2u6rhE2BoE"
   },
   "outputs": [],
   "source": [
    "file = open('model.pkl','wb')\n",
    "pkl.dump(model, file)"
   ]
  },
  {
   "cell_type": "code",
   "execution_count": 272,
   "metadata": {
    "id": "joNlEBW62N6v"
   },
   "outputs": [],
   "source": [
    "file.close()"
   ]
  },
  {
   "cell_type": "code",
   "execution_count": 273,
   "metadata": {},
   "outputs": [],
   "source": [
    "file = open('gender_label.pkl','wb')\n",
    "pkl.dump(gender_label, file)\n",
    "file.close()\n",
    "\n",
    "file = open('gender_onehot.pkl','wb')\n",
    "pkl.dump(gender_onehot, file)\n",
    "file.close()\n",
    "\n",
    "file = open('severity_label.pkl','wb')\n",
    "pkl.dump(severity_label, file)\n",
    "file.close()\n",
    "\n",
    "file = open('severity_onehot.pkl','wb')\n",
    "pkl.dump(severity_onehot, file)\n",
    "file.close()\n",
    "\n",
    "file = open('contact_label.pkl','wb')\n",
    "pkl.dump(contact_label, file)\n",
    "file.close()\n",
    "\n",
    "file = open('contact_onehot.pkl','wb')\n",
    "pkl.dump(contact_onehot, file)\n",
    "file.close()"
   ]
  },
  {
   "cell_type": "code",
   "execution_count": 274,
   "metadata": {},
   "outputs": [],
   "source": [
    "file = open('minmax.pkl','wb')\n",
    "pkl.dump(minmax, file)\n",
    "file.close()"
   ]
  }
 ],
 "metadata": {
  "colab": {
   "provenance": []
  },
  "kernelspec": {
   "display_name": "Python 3 (ipykernel)",
   "language": "python",
   "name": "python3"
  },
  "language_info": {
   "codemirror_mode": {
    "name": "ipython",
    "version": 3
   },
   "file_extension": ".py",
   "mimetype": "text/x-python",
   "name": "python",
   "nbconvert_exporter": "python",
   "pygments_lexer": "ipython3",
   "version": "3.9.13"
  }
 },
 "nbformat": 4,
 "nbformat_minor": 1
}
