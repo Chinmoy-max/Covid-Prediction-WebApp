{
 "cells": [
  {
   "cell_type": "markdown",
   "id": "c3da6bd4",
   "metadata": {},
   "source": [
    "# To load the model for Testing the ML model and to use in GUI App"
   ]
  },
  {
   "cell_type": "code",
   "execution_count": 96,
   "id": "d1aaca32",
   "metadata": {},
   "outputs": [],
   "source": [
    "import pickle as pkl"
   ]
  },
  {
   "cell_type": "code",
   "execution_count": 97,
   "id": "4f05f7f3",
   "metadata": {},
   "outputs": [],
   "source": [
    "file = open('model.pkl','rb')\n",
    "model = pkl.load(file)\n",
    "file.close()"
   ]
  },
  {
   "cell_type": "code",
   "execution_count": 98,
   "id": "9b6ca306",
   "metadata": {},
   "outputs": [],
   "source": [
    "file = open('gender_label.pkl','rb')\n",
    "gender_label = pkl.load(file)\n",
    "file.close()\n",
    "\n",
    "file = open('gender_onehot.pkl','rb')\n",
    "gender_onehot = pkl.load(file)\n",
    "file.close()\n",
    "\n",
    "file = open('severity_label.pkl','rb')\n",
    "severity_label = pkl.load(file)\n",
    "file.close()\n",
    "\n",
    "file = open('severity_onehot.pkl','rb')\n",
    "severity_onehot = pkl.load(file)\n",
    "file.close()\n",
    "\n",
    "file = open('contact_label.pkl','rb')\n",
    "contact_label = pkl.load(file)\n",
    "file.close()\n",
    "\n",
    "file = open('contact_onehot.pkl','rb')\n",
    "contact_onehot = pkl.load(file)\n",
    "file.close()\n",
    "\n",
    "file = open('minmax.pkl','rb')\n",
    "minmax = pkl.load(file)\n",
    "file.close()"
   ]
  },
  {
   "cell_type": "code",
   "execution_count": 99,
   "id": "723ff4ee",
   "metadata": {},
   "outputs": [],
   "source": [
    "age = 50\n",
    "gender = 'Male'\n",
    "fever = 99\n",
    "bodypain = 1\n",
    "runny_nose = 0\n",
    "diff = 0\n",
    "nasal = 1\n",
    "sore_throat = 0\n",
    "severity = 'Mild'\n",
    "contact = 'no'"
   ]
  },
  {
   "cell_type": "code",
   "execution_count": 100,
   "id": "4e045f69",
   "metadata": {},
   "outputs": [],
   "source": [
    "gender = gender_onehot.transform([gender_label.transform([gender])]).toarray()"
   ]
  },
  {
   "cell_type": "code",
   "execution_count": 101,
   "id": "2369be27",
   "metadata": {},
   "outputs": [],
   "source": [
    "severity = severity_onehot.transform([severity_label.fit_transform([severity])]).toarray()"
   ]
  },
  {
   "cell_type": "code",
   "execution_count": 102,
   "id": "729c2a44",
   "metadata": {},
   "outputs": [],
   "source": [
    "contact = contact_onehot.transform([contact_label.fit_transform([contact])]).toarray()"
   ]
  },
  {
   "cell_type": "code",
   "execution_count": 103,
   "id": "7df20fd5",
   "metadata": {},
   "outputs": [
    {
     "data": {
      "text/plain": [
       "array([[0., 1., 0.]])"
      ]
     },
     "execution_count": 103,
     "metadata": {},
     "output_type": "execute_result"
    }
   ],
   "source": [
    "gender"
   ]
  },
  {
   "cell_type": "code",
   "execution_count": 104,
   "id": "f6281491",
   "metadata": {},
   "outputs": [
    {
     "data": {
      "text/plain": [
       "array([[1., 0., 0.]])"
      ]
     },
     "execution_count": 104,
     "metadata": {},
     "output_type": "execute_result"
    }
   ],
   "source": [
    "severity"
   ]
  },
  {
   "cell_type": "code",
   "execution_count": 105,
   "id": "cf4a8856",
   "metadata": {},
   "outputs": [
    {
     "data": {
      "text/plain": [
       "array([[1., 0., 0.]])"
      ]
     },
     "execution_count": 105,
     "metadata": {},
     "output_type": "execute_result"
    }
   ],
   "source": [
    "contact"
   ]
  },
  {
   "cell_type": "code",
   "execution_count": 106,
   "id": "de0e427d",
   "metadata": {},
   "outputs": [],
   "source": [
    "import numpy as np"
   ]
  },
  {
   "cell_type": "code",
   "execution_count": 108,
   "id": "4bd7d14d",
   "metadata": {},
   "outputs": [],
   "source": [
    "test_data = np.array([[age,fever,bodypain,runny_nose,diff,nasal,sore_throat]])"
   ]
  },
  {
   "cell_type": "code",
   "execution_count": 109,
   "id": "74987896",
   "metadata": {},
   "outputs": [],
   "source": [
    "test_X = np.c_[test_data,gender,severity,contact]"
   ]
  },
  {
   "cell_type": "code",
   "execution_count": 110,
   "id": "6ea814ee",
   "metadata": {},
   "outputs": [
    {
     "data": {
      "text/plain": [
       "array([[50., 99.,  1.,  0.,  0.,  1.,  0.,  0.,  1.,  0.,  1.,  0.,  0.,\n",
       "         1.,  0.,  0.]])"
      ]
     },
     "execution_count": 110,
     "metadata": {},
     "output_type": "execute_result"
    }
   ],
   "source": [
    "test_X"
   ]
  },
  {
   "cell_type": "code",
   "execution_count": 112,
   "id": "482be676",
   "metadata": {},
   "outputs": [],
   "source": [
    "test_X = minmax.transform(test_X)"
   ]
  },
  {
   "cell_type": "code",
   "execution_count": 113,
   "id": "5cdd8001",
   "metadata": {},
   "outputs": [
    {
     "data": {
      "text/plain": [
       "array([[0.50632911, 0.16666667, 1.        , 0.        , 0.        ,\n",
       "        1.        , 0.        , 0.        , 1.        , 0.        ,\n",
       "        1.        , 0.        , 0.        , 1.        , 0.        ,\n",
       "        0.        ]])"
      ]
     },
     "execution_count": 113,
     "metadata": {},
     "output_type": "execute_result"
    }
   ],
   "source": [
    "test_X"
   ]
  },
  {
   "cell_type": "code",
   "execution_count": 114,
   "id": "2e96427e",
   "metadata": {},
   "outputs": [
    {
     "data": {
      "text/plain": [
       "array([0], dtype=int64)"
      ]
     },
     "execution_count": 114,
     "metadata": {},
     "output_type": "execute_result"
    }
   ],
   "source": [
    "model.predict(test_X)"
   ]
  },
  {
   "cell_type": "code",
   "execution_count": null,
   "id": "657eb768",
   "metadata": {},
   "outputs": [],
   "source": []
  }
 ],
 "metadata": {
  "kernelspec": {
   "display_name": "Python 3 (ipykernel)",
   "language": "python",
   "name": "python3"
  },
  "language_info": {
   "codemirror_mode": {
    "name": "ipython",
    "version": 3
   },
   "file_extension": ".py",
   "mimetype": "text/x-python",
   "name": "python",
   "nbconvert_exporter": "python",
   "pygments_lexer": "ipython3",
   "version": "3.9.13"
  }
 },
 "nbformat": 4,
 "nbformat_minor": 5
}
